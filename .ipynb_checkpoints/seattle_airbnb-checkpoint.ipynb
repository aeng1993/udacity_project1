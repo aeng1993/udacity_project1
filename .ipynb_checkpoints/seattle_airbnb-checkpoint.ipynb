{
 "cells": [
  {
   "cell_type": "markdown",
   "id": "493c75a0",
   "metadata": {},
   "source": [
    "# Project 1: Write a Data Sciene Blog Post (w/ Seattle Airbnb data analysis)"
   ]
  },
  {
   "cell_type": "markdown",
   "id": "df311035",
   "metadata": {},
   "source": [
    "## Section 1: Bussiness Understandaing"
   ]
  },
  {
   "cell_type": "code",
   "execution_count": 90,
   "id": "626d0806",
   "metadata": {},
   "outputs": [],
   "source": [
    "#This project aims to look at the Seattle Airbnb data from 2016 to gain insights about the rental house market in Seattle\n",
    "#The open source data is obtained from Kaggle, two data file \"sea_calendar\" and \"sea_listings\" will be used.\n",
    "#Three key bussiness questions will be addressed in this analysis:\n"
   ]
  },
  {
   "cell_type": "markdown",
   "id": "f2dfd9f7",
   "metadata": {},
   "source": [
    "### Question 1: What are the busiest times of the year to visit Seattle? How much price spike?\n",
    "\n",
    "### Question 2: What is the vibe for the popular neighbourhood based on listing description?\n",
    "\n",
    "### Question 3: What are the key features that influence the rental listing price? "
   ]
  },
  {
   "cell_type": "markdown",
   "id": "4f557a50",
   "metadata": {},
   "source": [
    "## Section 2: Data Understanding"
   ]
  },
  {
   "cell_type": "code",
   "execution_count": 91,
   "id": "673c176e",
   "metadata": {},
   "outputs": [],
   "source": [
    "#import libraries needed for all three questions \n",
    "import pandas as pd\n",
    "import numpy as np\n",
    "from matplotlib import pyplot as plt\n",
    "import gensim\n",
    "from sklearn.feature_extraction.text import CountVectorizer\n",
    "from sklearn.feature_extraction.text import TfidfVectorizer\n",
    "import re\n",
    "from sklearn.ensemble import RandomForestRegressor\n",
    "from sklearn.model_selection import train_test_split"
   ]
  },
  {
   "cell_type": "markdown",
   "id": "4d032f59",
   "metadata": {},
   "source": [
    "### GATHER DATA"
   ]
  },
  {
   "cell_type": "code",
   "execution_count": 92,
   "id": "6d623131",
   "metadata": {},
   "outputs": [],
   "source": [
    "#sea_calendar contains the calendar information (availability, price for each listing at each date)\n",
    "#sea_listings contains the listing information (host, property info, with plenty of details)\n",
    "sea_calendar = pd.read_csv('seattle_calendar.csv')\n",
    "sea_listings = pd.read_csv('seattle_listings.csv')"
   ]
  },
  {
   "cell_type": "markdown",
   "id": "482f4fdc",
   "metadata": {},
   "source": [
    "### ASSESS DATA"
   ]
  },
  {
   "cell_type": "code",
   "execution_count": 93,
   "id": "a8309205",
   "metadata": {},
   "outputs": [
    {
     "name": "stdout",
     "output_type": "stream",
     "text": [
      "number of data points and number of columns: (1393570, 4) \n",
      "\n",
      "data type for each column: \n",
      "\n",
      "listing_id     int64\n",
      "date          object\n",
      "available     object\n",
      "price         object\n",
      "dtype: object \n",
      "\n"
     ]
    },
    {
     "data": {
      "text/html": [
       "<div>\n",
       "<style scoped>\n",
       "    .dataframe tbody tr th:only-of-type {\n",
       "        vertical-align: middle;\n",
       "    }\n",
       "\n",
       "    .dataframe tbody tr th {\n",
       "        vertical-align: top;\n",
       "    }\n",
       "\n",
       "    .dataframe thead th {\n",
       "        text-align: right;\n",
       "    }\n",
       "</style>\n",
       "<table border=\"1\" class=\"dataframe\">\n",
       "  <thead>\n",
       "    <tr style=\"text-align: right;\">\n",
       "      <th></th>\n",
       "      <th>listing_id</th>\n",
       "      <th>date</th>\n",
       "      <th>available</th>\n",
       "      <th>price</th>\n",
       "    </tr>\n",
       "  </thead>\n",
       "  <tbody>\n",
       "    <tr>\n",
       "      <th>0</th>\n",
       "      <td>241032</td>\n",
       "      <td>2016-01-04</td>\n",
       "      <td>t</td>\n",
       "      <td>$85.00</td>\n",
       "    </tr>\n",
       "    <tr>\n",
       "      <th>1</th>\n",
       "      <td>241032</td>\n",
       "      <td>2016-01-05</td>\n",
       "      <td>t</td>\n",
       "      <td>$85.00</td>\n",
       "    </tr>\n",
       "    <tr>\n",
       "      <th>2</th>\n",
       "      <td>241032</td>\n",
       "      <td>2016-01-06</td>\n",
       "      <td>f</td>\n",
       "      <td>NaN</td>\n",
       "    </tr>\n",
       "    <tr>\n",
       "      <th>3</th>\n",
       "      <td>241032</td>\n",
       "      <td>2016-01-07</td>\n",
       "      <td>f</td>\n",
       "      <td>NaN</td>\n",
       "    </tr>\n",
       "    <tr>\n",
       "      <th>4</th>\n",
       "      <td>241032</td>\n",
       "      <td>2016-01-08</td>\n",
       "      <td>f</td>\n",
       "      <td>NaN</td>\n",
       "    </tr>\n",
       "  </tbody>\n",
       "</table>\n",
       "</div>"
      ],
      "text/plain": [
       "   listing_id        date available   price\n",
       "0      241032  2016-01-04         t  $85.00\n",
       "1      241032  2016-01-05         t  $85.00\n",
       "2      241032  2016-01-06         f     NaN\n",
       "3      241032  2016-01-07         f     NaN\n",
       "4      241032  2016-01-08         f     NaN"
      ]
     },
     "execution_count": 93,
     "metadata": {},
     "output_type": "execute_result"
    }
   ],
   "source": [
    "#look at the shape of dataframe 'sea_calendar'\n",
    "print('number of data points and number of columns: {} \\n'.format(sea_calendar.shape))\n",
    "\n",
    "#look at the datatype \n",
    "print('data type for each column: \\n\\n{} \\n'.format(sea_calendar.dtypes))\n",
    "\n",
    "#get a sense about what the data look like\n",
    "sea_calendar.head()"
   ]
  },
  {
   "cell_type": "code",
   "execution_count": 94,
   "id": "eb61464a",
   "metadata": {},
   "outputs": [
    {
     "name": "stdout",
     "output_type": "stream",
     "text": [
      "total number of data point for available listing: 934542\n",
      "\n",
      "total number of data for price: 934542\n"
     ]
    }
   ],
   "source": [
    "#chek for missing data for price -- all available listing has a price\n",
    "print('total number of data point for available listing: {}\\n'.format(len(sea_calendar[sea_calendar['available']=='t'])))\n",
    "print('total number of data for price: {}'.format(sum(sea_calendar['price'].value_counts())))"
   ]
  },
  {
   "cell_type": "code",
   "execution_count": 95,
   "id": "eca97a54",
   "metadata": {
    "scrolled": false
   },
   "outputs": [
    {
     "name": "stdout",
     "output_type": "stream",
     "text": [
      "number of data points and number of columns: (3818, 92) \n",
      "\n",
      "integer data columns: length(13) \n",
      "id                                int64\n",
      "scrape_id                         int64\n",
      "host_id                           int64\n",
      "accommodates                      int64\n",
      "guests_included                   int64\n",
      "minimum_nights                    int64\n",
      "maximum_nights                    int64\n",
      "availability_30                   int64\n",
      "availability_60                   int64\n",
      "availability_90                   int64\n",
      "availability_365                  int64\n",
      "number_of_reviews                 int64\n",
      "calculated_host_listings_count    int64\n",
      "dtype: object \n",
      "\n",
      "float data columns: length(17) \n",
      "host_listings_count            float64\n",
      "host_total_listings_count      float64\n",
      "latitude                       float64\n",
      "longitude                      float64\n",
      "bathrooms                      float64\n",
      "bedrooms                       float64\n",
      "beds                           float64\n",
      "square_feet                    float64\n",
      "review_scores_rating           float64\n",
      "review_scores_accuracy         float64\n",
      "review_scores_cleanliness      float64\n",
      "review_scores_checkin          float64\n",
      "review_scores_communication    float64\n",
      "review_scores_location         float64\n",
      "review_scores_value            float64\n",
      "license                        float64\n",
      "reviews_per_month              float64\n",
      "dtype: object \n",
      "\n",
      "object data columns: length(62)\n",
      "listing_url                         object\n",
      "last_scraped                        object\n",
      "name                                object\n",
      "summary                             object\n",
      "space                               object\n",
      "                                     ...  \n",
      "jurisdiction_names                  object\n",
      "instant_bookable                    object\n",
      "cancellation_policy                 object\n",
      "require_guest_profile_picture       object\n",
      "require_guest_phone_verification    object\n",
      "Length: 62, dtype: object \n",
      "\n"
     ]
    }
   ],
   "source": [
    "#look at the shape of dataframe 'sea_listings'\n",
    "print('number of data points and number of columns: {} \\n'.format(sea_listings.shape))\n",
    "\n",
    "#look at the dataype of columns\n",
    "print('integer data columns: length({}) \\n{} \\n'.format(len(sea_listings.dtypes[sea_listings.dtypes == 'int64']), sea_listings.dtypes[sea_listings.dtypes == 'int64']))\n",
    "print('float data columns: length({}) \\n{} \\n'.format(len(sea_listings.dtypes[sea_listings.dtypes == 'float64']), sea_listings.dtypes[sea_listings.dtypes == 'float64']))\n",
    "print('object data columns: length({})\\n{} \\n'.format(len(sea_listings.dtypes[sea_listings.dtypes == 'object']), sea_listings.dtypes[sea_listings.dtypes == 'object']))"
   ]
  },
  {
   "cell_type": "code",
   "execution_count": 96,
   "id": "b27706b1",
   "metadata": {},
   "outputs": [
    {
     "name": "stdout",
     "output_type": "stream",
     "text": [
      "Index(['id', 'listing_url', 'scrape_id', 'last_scraped', 'name', 'summary',\n",
      "       'space', 'description', 'experiences_offered', 'neighborhood_overview',\n",
      "       'notes', 'transit', 'thumbnail_url', 'medium_url', 'picture_url',\n",
      "       'xl_picture_url', 'host_id', 'host_url', 'host_name', 'host_since',\n",
      "       'host_location', 'host_about', 'host_response_time',\n",
      "       'host_response_rate', 'host_acceptance_rate', 'host_is_superhost',\n",
      "       'host_thumbnail_url', 'host_picture_url', 'host_neighbourhood',\n",
      "       'host_listings_count', 'host_total_listings_count',\n",
      "       'host_verifications', 'host_has_profile_pic', 'host_identity_verified',\n",
      "       'street', 'neighbourhood', 'neighbourhood_cleansed',\n",
      "       'neighbourhood_group_cleansed', 'city', 'state', 'zipcode', 'market',\n",
      "       'smart_location', 'country_code', 'country', 'latitude', 'longitude',\n",
      "       'is_location_exact', 'property_type', 'room_type', 'accommodates',\n",
      "       'bathrooms', 'bedrooms', 'beds', 'bed_type', 'amenities', 'square_feet',\n",
      "       'price', 'weekly_price', 'monthly_price', 'security_deposit',\n",
      "       'cleaning_fee', 'guests_included', 'extra_people', 'minimum_nights',\n",
      "       'maximum_nights', 'calendar_updated', 'has_availability',\n",
      "       'availability_30', 'availability_60', 'availability_90',\n",
      "       'availability_365', 'calendar_last_scraped', 'number_of_reviews',\n",
      "       'first_review', 'last_review', 'review_scores_rating',\n",
      "       'review_scores_accuracy', 'review_scores_cleanliness',\n",
      "       'review_scores_checkin', 'review_scores_communication',\n",
      "       'review_scores_location', 'review_scores_value', 'requires_license',\n",
      "       'license', 'jurisdiction_names', 'instant_bookable',\n",
      "       'cancellation_policy', 'require_guest_profile_picture',\n",
      "       'require_guest_phone_verification', 'calculated_host_listings_count',\n",
      "       'reviews_per_month'],\n",
      "      dtype='object')\n"
     ]
    },
    {
     "data": {
      "text/html": [
       "<div>\n",
       "<style scoped>\n",
       "    .dataframe tbody tr th:only-of-type {\n",
       "        vertical-align: middle;\n",
       "    }\n",
       "\n",
       "    .dataframe tbody tr th {\n",
       "        vertical-align: top;\n",
       "    }\n",
       "\n",
       "    .dataframe thead th {\n",
       "        text-align: right;\n",
       "    }\n",
       "</style>\n",
       "<table border=\"1\" class=\"dataframe\">\n",
       "  <thead>\n",
       "    <tr style=\"text-align: right;\">\n",
       "      <th></th>\n",
       "      <th>id</th>\n",
       "      <th>listing_url</th>\n",
       "      <th>scrape_id</th>\n",
       "      <th>last_scraped</th>\n",
       "      <th>name</th>\n",
       "      <th>summary</th>\n",
       "      <th>space</th>\n",
       "      <th>description</th>\n",
       "      <th>experiences_offered</th>\n",
       "      <th>neighborhood_overview</th>\n",
       "      <th>...</th>\n",
       "      <th>review_scores_value</th>\n",
       "      <th>requires_license</th>\n",
       "      <th>license</th>\n",
       "      <th>jurisdiction_names</th>\n",
       "      <th>instant_bookable</th>\n",
       "      <th>cancellation_policy</th>\n",
       "      <th>require_guest_profile_picture</th>\n",
       "      <th>require_guest_phone_verification</th>\n",
       "      <th>calculated_host_listings_count</th>\n",
       "      <th>reviews_per_month</th>\n",
       "    </tr>\n",
       "  </thead>\n",
       "  <tbody>\n",
       "    <tr>\n",
       "      <th>0</th>\n",
       "      <td>241032</td>\n",
       "      <td>https://www.airbnb.com/rooms/241032</td>\n",
       "      <td>20160104002432</td>\n",
       "      <td>2016-01-04</td>\n",
       "      <td>Stylish Queen Anne Apartment</td>\n",
       "      <td>NaN</td>\n",
       "      <td>Make your self at home in this charming one-be...</td>\n",
       "      <td>Make your self at home in this charming one-be...</td>\n",
       "      <td>none</td>\n",
       "      <td>NaN</td>\n",
       "      <td>...</td>\n",
       "      <td>10.0</td>\n",
       "      <td>f</td>\n",
       "      <td>NaN</td>\n",
       "      <td>WASHINGTON</td>\n",
       "      <td>f</td>\n",
       "      <td>moderate</td>\n",
       "      <td>f</td>\n",
       "      <td>f</td>\n",
       "      <td>2</td>\n",
       "      <td>4.07</td>\n",
       "    </tr>\n",
       "    <tr>\n",
       "      <th>1</th>\n",
       "      <td>953595</td>\n",
       "      <td>https://www.airbnb.com/rooms/953595</td>\n",
       "      <td>20160104002432</td>\n",
       "      <td>2016-01-04</td>\n",
       "      <td>Bright &amp; Airy Queen Anne Apartment</td>\n",
       "      <td>Chemically sensitive? We've removed the irrita...</td>\n",
       "      <td>Beautiful, hypoallergenic apartment in an extr...</td>\n",
       "      <td>Chemically sensitive? We've removed the irrita...</td>\n",
       "      <td>none</td>\n",
       "      <td>Queen Anne is a wonderful, truly functional vi...</td>\n",
       "      <td>...</td>\n",
       "      <td>10.0</td>\n",
       "      <td>f</td>\n",
       "      <td>NaN</td>\n",
       "      <td>WASHINGTON</td>\n",
       "      <td>f</td>\n",
       "      <td>strict</td>\n",
       "      <td>t</td>\n",
       "      <td>t</td>\n",
       "      <td>6</td>\n",
       "      <td>1.48</td>\n",
       "    </tr>\n",
       "    <tr>\n",
       "      <th>2</th>\n",
       "      <td>3308979</td>\n",
       "      <td>https://www.airbnb.com/rooms/3308979</td>\n",
       "      <td>20160104002432</td>\n",
       "      <td>2016-01-04</td>\n",
       "      <td>New Modern House-Amazing water view</td>\n",
       "      <td>New modern house built in 2013.  Spectacular s...</td>\n",
       "      <td>Our house is modern, light and fresh with a wa...</td>\n",
       "      <td>New modern house built in 2013.  Spectacular s...</td>\n",
       "      <td>none</td>\n",
       "      <td>Upper Queen Anne is a charming neighborhood fu...</td>\n",
       "      <td>...</td>\n",
       "      <td>10.0</td>\n",
       "      <td>f</td>\n",
       "      <td>NaN</td>\n",
       "      <td>WASHINGTON</td>\n",
       "      <td>f</td>\n",
       "      <td>strict</td>\n",
       "      <td>f</td>\n",
       "      <td>f</td>\n",
       "      <td>2</td>\n",
       "      <td>1.15</td>\n",
       "    </tr>\n",
       "    <tr>\n",
       "      <th>3</th>\n",
       "      <td>7421966</td>\n",
       "      <td>https://www.airbnb.com/rooms/7421966</td>\n",
       "      <td>20160104002432</td>\n",
       "      <td>2016-01-04</td>\n",
       "      <td>Queen Anne Chateau</td>\n",
       "      <td>A charming apartment that sits atop Queen Anne...</td>\n",
       "      <td>NaN</td>\n",
       "      <td>A charming apartment that sits atop Queen Anne...</td>\n",
       "      <td>none</td>\n",
       "      <td>NaN</td>\n",
       "      <td>...</td>\n",
       "      <td>NaN</td>\n",
       "      <td>f</td>\n",
       "      <td>NaN</td>\n",
       "      <td>WASHINGTON</td>\n",
       "      <td>f</td>\n",
       "      <td>flexible</td>\n",
       "      <td>f</td>\n",
       "      <td>f</td>\n",
       "      <td>1</td>\n",
       "      <td>NaN</td>\n",
       "    </tr>\n",
       "    <tr>\n",
       "      <th>4</th>\n",
       "      <td>278830</td>\n",
       "      <td>https://www.airbnb.com/rooms/278830</td>\n",
       "      <td>20160104002432</td>\n",
       "      <td>2016-01-04</td>\n",
       "      <td>Charming craftsman 3 bdm house</td>\n",
       "      <td>Cozy family craftman house in beautiful neighb...</td>\n",
       "      <td>Cozy family craftman house in beautiful neighb...</td>\n",
       "      <td>Cozy family craftman house in beautiful neighb...</td>\n",
       "      <td>none</td>\n",
       "      <td>We are in the beautiful neighborhood of Queen ...</td>\n",
       "      <td>...</td>\n",
       "      <td>9.0</td>\n",
       "      <td>f</td>\n",
       "      <td>NaN</td>\n",
       "      <td>WASHINGTON</td>\n",
       "      <td>f</td>\n",
       "      <td>strict</td>\n",
       "      <td>f</td>\n",
       "      <td>f</td>\n",
       "      <td>1</td>\n",
       "      <td>0.89</td>\n",
       "    </tr>\n",
       "  </tbody>\n",
       "</table>\n",
       "<p>5 rows × 92 columns</p>\n",
       "</div>"
      ],
      "text/plain": [
       "        id                           listing_url       scrape_id last_scraped  \\\n",
       "0   241032   https://www.airbnb.com/rooms/241032  20160104002432   2016-01-04   \n",
       "1   953595   https://www.airbnb.com/rooms/953595  20160104002432   2016-01-04   \n",
       "2  3308979  https://www.airbnb.com/rooms/3308979  20160104002432   2016-01-04   \n",
       "3  7421966  https://www.airbnb.com/rooms/7421966  20160104002432   2016-01-04   \n",
       "4   278830   https://www.airbnb.com/rooms/278830  20160104002432   2016-01-04   \n",
       "\n",
       "                                  name  \\\n",
       "0         Stylish Queen Anne Apartment   \n",
       "1   Bright & Airy Queen Anne Apartment   \n",
       "2  New Modern House-Amazing water view   \n",
       "3                   Queen Anne Chateau   \n",
       "4       Charming craftsman 3 bdm house   \n",
       "\n",
       "                                             summary  \\\n",
       "0                                                NaN   \n",
       "1  Chemically sensitive? We've removed the irrita...   \n",
       "2  New modern house built in 2013.  Spectacular s...   \n",
       "3  A charming apartment that sits atop Queen Anne...   \n",
       "4  Cozy family craftman house in beautiful neighb...   \n",
       "\n",
       "                                               space  \\\n",
       "0  Make your self at home in this charming one-be...   \n",
       "1  Beautiful, hypoallergenic apartment in an extr...   \n",
       "2  Our house is modern, light and fresh with a wa...   \n",
       "3                                                NaN   \n",
       "4  Cozy family craftman house in beautiful neighb...   \n",
       "\n",
       "                                         description experiences_offered  \\\n",
       "0  Make your self at home in this charming one-be...                none   \n",
       "1  Chemically sensitive? We've removed the irrita...                none   \n",
       "2  New modern house built in 2013.  Spectacular s...                none   \n",
       "3  A charming apartment that sits atop Queen Anne...                none   \n",
       "4  Cozy family craftman house in beautiful neighb...                none   \n",
       "\n",
       "                               neighborhood_overview  ... review_scores_value  \\\n",
       "0                                                NaN  ...                10.0   \n",
       "1  Queen Anne is a wonderful, truly functional vi...  ...                10.0   \n",
       "2  Upper Queen Anne is a charming neighborhood fu...  ...                10.0   \n",
       "3                                                NaN  ...                 NaN   \n",
       "4  We are in the beautiful neighborhood of Queen ...  ...                 9.0   \n",
       "\n",
       "  requires_license license jurisdiction_names instant_bookable  \\\n",
       "0                f     NaN         WASHINGTON                f   \n",
       "1                f     NaN         WASHINGTON                f   \n",
       "2                f     NaN         WASHINGTON                f   \n",
       "3                f     NaN         WASHINGTON                f   \n",
       "4                f     NaN         WASHINGTON                f   \n",
       "\n",
       "  cancellation_policy  require_guest_profile_picture  \\\n",
       "0            moderate                              f   \n",
       "1              strict                              t   \n",
       "2              strict                              f   \n",
       "3            flexible                              f   \n",
       "4              strict                              f   \n",
       "\n",
       "  require_guest_phone_verification calculated_host_listings_count  \\\n",
       "0                                f                              2   \n",
       "1                                t                              6   \n",
       "2                                f                              2   \n",
       "3                                f                              1   \n",
       "4                                f                              1   \n",
       "\n",
       "  reviews_per_month  \n",
       "0              4.07  \n",
       "1              1.48  \n",
       "2              1.15  \n",
       "3               NaN  \n",
       "4              0.89  \n",
       "\n",
       "[5 rows x 92 columns]"
      ]
     },
     "execution_count": 96,
     "metadata": {},
     "output_type": "execute_result"
    }
   ],
   "source": [
    "#get a complete list of columns\n",
    "print(sea_listings.columns)\n",
    "#get a sense about what the data look like\n",
    "sea_listings.head()"
   ]
  },
  {
   "cell_type": "markdown",
   "id": "482304c4",
   "metadata": {},
   "source": [
    "## Section 3: PREPARE DATA"
   ]
  },
  {
   "cell_type": "markdown",
   "id": "6132d215",
   "metadata": {},
   "source": [
    "### For Question 1: What are the busiest times of the year to visit Seattle? How much price spike?"
   ]
  },
  {
   "cell_type": "code",
   "execution_count": 97,
   "id": "1757add9",
   "metadata": {},
   "outputs": [],
   "source": [
    "#change data type for manipulation for 'date' and 'price'\n",
    "sea_calendar['date']=pd.to_datetime(sea_calendar['date'])\n",
    "sea_calendar['price']=sea_calendar['price'].str.extract('([0-9.]+)')\n",
    "sea_calendar['price']=pd.to_numeric(sea_calendar['price'])\n",
    "\n",
    "#create a column for 'month' so that average price by month can be calcualted\n",
    "sea_calendar['month']=pd.DatetimeIndex(sea_calendar['date']).month"
   ]
  },
  {
   "cell_type": "code",
   "execution_count": 98,
   "id": "dae34ce5",
   "metadata": {},
   "outputs": [],
   "source": [
    "#calcualte the price per person for further analysis later\n",
    "sea_price = pd.merge(sea_calendar,sea_listings[['accommodates','id']],left_on='listing_id',right_on='id')\n",
    "sea_price['price per person'] = sea_price['price']/sea_price['accommodates']\n",
    "\n",
    "#calculate the monthly average price and monthly avearge price per person for each listing\n",
    "#the average for each listing is calcualted based on available data, assuming price is the same for unavailable dates\n",
    "sea_price_by_id_month = sea_price.groupby(['listing_id','month']).mean()[['price','price per person']]\n",
    "sea_price_by_month = sea_price_by_id_month.groupby(['month']).mean()[['price','price per person']]"
   ]
  },
  {
   "cell_type": "markdown",
   "id": "0076747d",
   "metadata": {},
   "source": [
    "### For Question 2: What is the vibe for the popular neighbourhood based on listing description?\n"
   ]
  },
  {
   "cell_type": "code",
   "execution_count": 99,
   "id": "1268f603",
   "metadata": {},
   "outputs": [],
   "source": [
    "#group neighborhood descriptions by each neighborhood \n",
    "#remove rows with nan in neighborhood_overview or neighbourhood\n",
    "sea_nbr_description = sea_listings.dropna(subset=['neighbourhood','neighborhood_overview'],axis=0).groupby('neighbourhood')['neighborhood_overview'].apply(''.join)\n",
    "\n",
    "#create a list for the next step (using LDA model to find topics)\n",
    "sea_nbr_description_list =list(sea_nbr_description)\n"
   ]
  },
  {
   "cell_type": "markdown",
   "id": "0c59fec0",
   "metadata": {},
   "source": [
    "### For Question 3: What are the key features that influence the rental listing price? "
   ]
  },
  {
   "cell_type": "code",
   "execution_count": 100,
   "id": "17790c88",
   "metadata": {},
   "outputs": [
    {
     "name": "stdout",
     "output_type": "stream",
     "text": [
      "cleaning_fee                    2788\n",
      "review_scores_rating            3171\n",
      "reviews_per_month               3191\n",
      "bathrooms                       3802\n",
      "zipcode                         3811\n",
      "bedrooms                        3812\n",
      "host_is_superhost               3816\n",
      "host_identity_verified          3816\n",
      "property_type                   3817\n",
      "beds                            3817\n",
      "cancellation_policy             3818\n",
      "accommodates                    3818\n",
      "room_type                       3818\n",
      "neighbourhood_group_cleansed    3818\n",
      "minimum_nights                  3818\n",
      "latitude                        3818\n",
      "longitude                       3818\n",
      "number_of_reviews               3818\n",
      "instant_bookable                3818\n",
      "price                           3818\n",
      "dtype: int64\n"
     ]
    }
   ],
   "source": [
    "#will train a machine learning model to predict the price based on features, and rank feature importance\n",
    "#first select a list of features to be included, then clean data in these columns\n",
    "#skip the data cleaning for those unused columns to save time (most columns are not needed)\n",
    "\n",
    "cat_cols = ['host_is_superhost','host_identity_verified','zipcode',\n",
    "               'neighbourhood_group_cleansed','property_type','room_type','instant_bookable','cancellation_policy']\n",
    "\n",
    "num_cols = ['accommodates','bathrooms','bedrooms','beds',\n",
    "              'cleaning_fee','minimum_nights','latitude','longitude','number_of_reviews','review_scores_rating','reviews_per_month']\n",
    "\n",
    "select_cols = cat_cols + num_cols + ['price']\n",
    "\n",
    "#create a dataframe only taing the wanted columns (features & 'price')\n",
    "df_listing = sea_listings[select_cols]\n",
    "\n",
    "#review the data availability -- need to deal with missing data in some columns\n",
    "print(df_listing.count().sort_values())"
   ]
  },
  {
   "cell_type": "code",
   "execution_count": 101,
   "id": "a75efb44",
   "metadata": {},
   "outputs": [
    {
     "name": "stdout",
     "output_type": "stream",
     "text": [
      "host_is_superhost               3786\n",
      "reviews_per_month               3786\n",
      "review_scores_rating            3786\n",
      "number_of_reviews               3786\n",
      "longitude                       3786\n",
      "latitude                        3786\n",
      "minimum_nights                  3786\n",
      "cleaning_fee                    3786\n",
      "beds                            3786\n",
      "price                           3786\n",
      "bedrooms                        3786\n",
      "accommodates                    3786\n",
      "cancellation_policy             3786\n",
      "instant_bookable                3786\n",
      "room_type                       3786\n",
      "property_type                   3786\n",
      "neighbourhood_group_cleansed    3786\n",
      "zipcode                         3786\n",
      "host_identity_verified          3786\n",
      "bathrooms                       3786\n",
      "review_unavailable              3786\n",
      "dtype: int64\n"
     ]
    }
   ],
   "source": [
    "import warnings\n",
    "warnings.filterwarnings(\"ignore\")\n",
    "\n",
    "#deal with missing data  and prepare the df_listing to be ready for modeling\n",
    "\n",
    "#need to change data type for 'price' and 'cleaning_fee', extract numbers and convert to float\n",
    "#cleaning_fee -- fill NAN with 0, assuming \"NAN\" means no cleaning fee required\n",
    "df_listing['cleaning_fee']=df_listing['cleaning_fee'].str.extract('([0-9.]+)')\n",
    "df_listing['cleaning_fee']=pd.to_numeric(df_listing['cleaning_fee'])\n",
    "df_listing['cleaning_fee']=df_listing['cleaning_fee'].fillna(0)\n",
    "df_listing['price']=df_listing['price'].str.extract('([0-9.]+)')\n",
    "df_listing['price']=pd.to_numeric(df_listing['price'])\n",
    "\n",
    "#reviews_per_month -- fill NAN with 0, assuming \"NAN\" means no review yet\n",
    "df_listing['reviews_per_month']=df_listing['reviews_per_month'].fillna(0)\n",
    "\n",
    "#review_scores_rating -- fill NAN with mean value of dataset, assuming impact of this feature is \"neutral\" for those\n",
    "df_listing['review_scores_rating']=df_listing['review_scores_rating'].fillna(df_listing['review_scores_rating'].mean())\n",
    "\n",
    "#add a column of \"review_unavailable\" -- if \"review_scores_rating\" is NAN, assign t, else f\n",
    "df_listing['review_unavailable'] = df_listing['review_scores_rating'].isnull().apply(lambda x:'t' if x is True else 'f')\n",
    "\n",
    "#add 'review_unavailable' as a feature\n",
    "cat_cols = cat_cols + ['review_unavailable']\n",
    "\n",
    "#other columns only have <2 missing values, drop NAN row directly (impact is small)\n",
    "df_listing.dropna(inplace=True)\n",
    "\n",
    "#confirm number of data points available & no NAN for any features\n",
    "print(df_listing.count().sort_values())\n"
   ]
  },
  {
   "cell_type": "markdown",
   "id": "92da9d94",
   "metadata": {},
   "source": [
    "## Section 4: DATA MODELING"
   ]
  },
  {
   "cell_type": "markdown",
   "id": "caaea541",
   "metadata": {},
   "source": [
    "### For Question 1: What are the busiest times of the year to visit Seattle? How much price spike?"
   ]
  },
  {
   "cell_type": "code",
   "execution_count": 102,
   "id": "bfc42b99",
   "metadata": {},
   "outputs": [],
   "source": [
    "#NO MODELING NEEDED"
   ]
  },
  {
   "cell_type": "markdown",
   "id": "07cbdac0",
   "metadata": {},
   "source": [
    "### For Question 2: What is the vibe for the popular neighbourhood based on listing description?"
   ]
  },
  {
   "cell_type": "code",
   "execution_count": 103,
   "id": "e74ac998",
   "metadata": {},
   "outputs": [],
   "source": [
    "#Analyse the topic distribution of the neighbourhood description using LDA model\n",
    "# Use CountVectorizor to find three letter tokens, remove stop_words \n",
    "# remove tokens that don't appear in at least 5 descriptions or appear in >50% of the documents\n",
    "\n",
    "def find_topic(text, num_topics, num_words):\n",
    "    '''INPUT:\n",
    "             text       -- a list of documents to be analyzed;\n",
    "                            in this case, each document contains all descriptions about each neighborhood\n",
    "             num_topics -- the number of topics to be found (each topic = one \"vibe\" of neighborhood)\n",
    "             num_words  -- the number of top key words in each topic to be shown for topic interpretation\n",
    "       OUTPUT:\n",
    "             topic      -- an iterator of the topic & topic contribution for each document\n",
    "             key_words  -- a list of tuples for each topic and the top words in each topic\n",
    "              \n",
    "    '''\n",
    "    vect = CountVectorizer(min_df=5, max_df=0.5,stop_words='english', token_pattern='(?u)\\\\b\\\\w\\\\w\\\\w+\\\\b')\n",
    "    X_nbr = vect.fit_transform(text)\n",
    "    \n",
    "    # Convert sparse matrix to gensim corpus.\n",
    "    corpus = gensim.matutils.Sparse2Corpus(X_nbr, documents_columns=False)\n",
    "    \n",
    "    # Mapping from word IDs to words (To be used in LdaModel's id2word parameter)\n",
    "    id_map = dict((v, k) for k, v in vect.vocabulary_.items())\n",
    "    ldamodel = gensim.models.ldamodel.LdaModel(corpus,num_topics=num_topics,id2word=id_map,passes=25,random_state=1)\n",
    "    topic = ldamodel.get_document_topics(corpus)\n",
    "    key_words = ldamodel.print_topics(num_topics=num_topics, num_words=num_words)\n",
    "    \n",
    "    return (topic, key_words)\n",
    "\n",
    "(topic, key_words) = find_topic(sea_nbr_description_list,3,12)"
   ]
  },
  {
   "cell_type": "code",
   "execution_count": 104,
   "id": "e61398df",
   "metadata": {},
   "outputs": [],
   "source": [
    "#Additional analysis: the tfidf for each neighbourhood \n",
    "\n",
    "#use TfidfVectorizer to calculate the Tfidf for tokens and identify the key words for each neighbourhood\n",
    "vect_2 = TfidfVectorizer(min_df=10, max_df=0.6, stop_words='english', token_pattern='(?u)\\\\b\\\\w\\\\w\\\\w+\\\\b')\n",
    "X_nbr2 = vect_2.fit_transform(sea_nbr_description_list)\n",
    "feature_names_tfidf = vect_2.get_feature_names()\n",
    "\n",
    "#X_nbr2 contains the tfidf for each neighbourhood/token pairs, convert to array and sort to find the highest tfidf\n",
    "tfidf_ind = np.argsort(X_nbr2.toarray(),axis=1)"
   ]
  },
  {
   "cell_type": "markdown",
   "id": "debd2161",
   "metadata": {},
   "source": [
    "### For Question 3: What are the key features that influence the rental listing price? "
   ]
  },
  {
   "cell_type": "code",
   "execution_count": 105,
   "id": "fb5133fe",
   "metadata": {},
   "outputs": [
    {
     "name": "stdout",
     "output_type": "stream",
     "text": [
      "0.8768944722923825\n",
      "0.6650608048946074\n"
     ]
    }
   ],
   "source": [
    "#create dummy variables for the categorical features\n",
    "X_cat = pd.get_dummies(df_listing[cat_cols],drop_first=True)\n",
    "#combine categorical and numerical features, X is ready for use\n",
    "X = df_listing[num_cols].merge(X_cat,left_index=True,right_index=True)\n",
    "y = df_listing['price']\n",
    "\n",
    "#train, test data split\n",
    "X_train,X_test,y_train,y_test = train_test_split(X,y,random_state=1)\n",
    "\n",
    "#train a randomforest regressor to predict price\n",
    "regressor = RandomForestRegressor(n_estimators=100, max_depth=10,random_state=1).fit(X_train,y_train)\n",
    "print(regressor.score(X_train,y_train))\n",
    "print(regressor.score(X_test,y_test))"
   ]
  },
  {
   "cell_type": "code",
   "execution_count": 123,
   "id": "b527f520",
   "metadata": {},
   "outputs": [
    {
     "data": {
      "text/plain": [
       "<Figure size 432x288 with 0 Axes>"
      ]
     },
     "metadata": {},
     "output_type": "display_data"
    },
    {
     "data": {
      "image/png": "[encoded data removed]",
      "text/plain": [
       "<Figure size 1008x432 with 2 Axes>"
      ]
     },
     "metadata": {
      "needs_background": "light"
     },
     "output_type": "display_data"
    }
   ],
   "source": [
    "# look at the model accuracy for training set and test set\n",
    "# the model overfits as the training score is higher than the test score\n",
    "pred_test = regressor.predict(X_test)\n",
    "pred_train = regressor.predict(X_train)\n",
    "\n",
    "plt.figure()\n",
    "f, (ax1, ax2) = plt.subplots(1, 2,figsize=(14,6))\n",
    "ax1.scatter(pred_train,y_train,color='maroon')\n",
    "ax1.plot([0,800],[0,800],linestyle='dashed', color='black')\n",
    "ax1.set_xlim([0,800])\n",
    "ax1.set_ylim([0,800])\n",
    "ax1.title.set_text('training set, r2 score=0.88')\n",
    "ax1.set_xlabel('predicted price')\n",
    "ax1.set_ylabel('actual price')\n",
    "\n",
    "\n",
    "ax2.scatter(pred_test,y_test,color='blue')\n",
    "ax2.plot([0,800],[0,800],linestyle='dashed', color='black')\n",
    "ax2.set_xlim([0,800])\n",
    "ax2.set_ylim([0,800])\n",
    "ax2.title.set_text('test set, r2 score=0.67')\n",
    "ax2.set_xlabel('predicted price')\n",
    "ax2.set_ylabel('actual price')\n",
    "\n",
    "plt.show()"
   ]
  },
  {
   "cell_type": "code",
   "execution_count": 124,
   "id": "341d0bbe",
   "metadata": {},
   "outputs": [],
   "source": [
    "#looks like the model under-predicts the pricer house (>$600/night)\n",
    "#this may be improved by reviewing the features in more detail in the next step..."
   ]
  },
  {
   "cell_type": "markdown",
   "id": "4772d08b",
   "metadata": {},
   "source": [
    "## Section 5: EVALUATION"
   ]
  },
  {
   "cell_type": "markdown",
   "id": "d6ddea69",
   "metadata": {},
   "source": [
    "### For Question 1: What are the busiest times of the year to visit Seattle? How much price spike?"
   ]
  },
  {
   "cell_type": "code",
   "execution_count": 125,
   "id": "6d05616b",
   "metadata": {},
   "outputs": [
    {
     "data": {
      "image/png": "[encoded data removed]",
      "text/plain": [
       "<Figure size 576x432 with 1 Axes>"
      ]
     },
     "metadata": {
      "needs_background": "light"
     },
     "output_type": "display_data"
    }
   ],
   "source": [
    "#visualize the price trend by months\n",
    "plt.figure(figsize=(8,6))\n",
    "plt.plot(list(sea_price_by_month.index),list(sea_price_by_month['price']),linewidth=3)\n",
    "plt.title('Average listing price ($/night) by month')\n",
    "plt.gca().set_xlabel('Month')\n",
    "plt.show()"
   ]
  },
  {
   "cell_type": "code",
   "execution_count": 126,
   "id": "c38404e2",
   "metadata": {},
   "outputs": [],
   "source": [
    "#the average listing price goes up and down throughout the year\n",
    "#highest price is found in summer time (June-August), which is reasonable as the weather is nicest during these months\n",
    "#compared to January level, the average price could be ~$30/night more expensive in July\n",
    "#there may be also the time element impact -- booking a place a few months into the future may be more pricy/cheaper"
   ]
  },
  {
   "cell_type": "code",
   "execution_count": 127,
   "id": "f1f5b6d1",
   "metadata": {},
   "outputs": [
    {
     "data": {
      "image/png": "[encoded data removed]",
      "text/plain": [
       "<Figure size 576x432 with 1 Axes>"
      ]
     },
     "metadata": {
      "needs_background": "light"
     },
     "output_type": "display_data"
    }
   ],
   "source": [
    "#visualize the price per person trend by months\n",
    "plt.figure(figsize=(8,6))\n",
    "plt.plot(list(sea_price_by_month.index),list(sea_price_by_month['price per person']),linewidth=3)\n",
    "plt.title('Average listing price ($/person/night) by month')\n",
    "plt.gca().set_xlabel('Month')\n",
    "plt.show()"
   ]
  },
  {
   "cell_type": "code",
   "execution_count": 128,
   "id": "e6e15585",
   "metadata": {},
   "outputs": [],
   "source": [
    "#same trend for the price per person\n",
    "#provide an idea about how much it cost for each person, assuming a house is fully occupied & cost is divided by all"
   ]
  },
  {
   "cell_type": "code",
   "execution_count": 129,
   "id": "800f2a15",
   "metadata": {},
   "outputs": [
    {
     "data": {
      "image/png": "[encoded data removed]",
      "text/plain": [
       "<Figure size 576x432 with 1 Axes>"
      ]
     },
     "metadata": {
      "needs_background": "light"
     },
     "output_type": "display_data"
    }
   ],
   "source": [
    "#visualize the normalized price trend by months\n",
    "plt.figure(figsize=(8,6))\n",
    "plt.plot(list(sea_price_by_month.index),list(sea_price_by_month['price']/sea_price_by_month.iloc[0]['price']),linewidth=3)\n",
    "plt.title('Average listing price ($/night) normalized by January level')\n",
    "plt.gca().set_xlabel('Month')\n",
    "plt.show()"
   ]
  },
  {
   "cell_type": "code",
   "execution_count": 130,
   "id": "5b703434",
   "metadata": {},
   "outputs": [],
   "source": [
    "#normalize the price by January level -- the price goes up ~25% in the summer"
   ]
  },
  {
   "cell_type": "markdown",
   "id": "428fcbe6",
   "metadata": {},
   "source": [
    "### For Question 2: What is the vibe for the popular neighbourhood based on listing description?"
   ]
  },
  {
   "cell_type": "code",
   "execution_count": 131,
   "id": "50f6aacf",
   "metadata": {},
   "outputs": [
    {
     "data": {
      "text/plain": [
       "[(0,\n",
       "  '0.020*\"ballard\" + 0.017*\"fremont\" + 0.009*\"trail\" + 0.008*\"green\" + 0.007*\"wallingford\" + 0.007*\"zoo\" + 0.006*\"greenlake\" + 0.006*\"woodland\" + 0.006*\"columbia\" + 0.005*\"gardens\" + 0.005*\"burke\" + 0.005*\"alki\"'),\n",
       " (1,\n",
       "  '0.015*\"art\" + 0.015*\"capitol\" + 0.013*\"museum\" + 0.012*\"madison\" + 0.012*\"needle\" + 0.011*\"music\" + 0.010*\"central\" + 0.010*\"belltown\" + 0.008*\"experience\" + 0.008*\"heart\" + 0.008*\"score\" + 0.007*\"madrona\"'),\n",
       " (2,\n",
       "  '0.028*\"capitol\" + 0.024*\"queen\" + 0.024*\"anne\" + 0.009*\"needle\" + 0.008*\"nightlife\" + 0.008*\"museum\" + 0.007*\"union\" + 0.007*\"art\" + 0.007*\"apartment\" + 0.007*\"volunteer\" + 0.007*\"pine\" + 0.007*\"broadway\"')]"
      ]
     },
     "execution_count": 131,
     "metadata": {},
     "output_type": "execute_result"
    }
   ],
   "source": [
    "#look at the key words in the three topics and name the topics accordingly\n",
    "key_words"
   ]
  },
  {
   "cell_type": "code",
   "execution_count": 132,
   "id": "161bbbf5",
   "metadata": {},
   "outputs": [],
   "source": [
    "#from the top 12 words, the \"vibe\" associated with each topic can be interpreted as below:\n",
    "# 0 - nature scenery/suburb\n",
    "# 1 - tourist attractions\n",
    "# 2 - city life"
   ]
  },
  {
   "cell_type": "code",
   "execution_count": 133,
   "id": "99c5da15",
   "metadata": {
    "scrolled": false
   },
   "outputs": [
    {
     "data": {
      "text/html": [
       "<div>\n",
       "<style scoped>\n",
       "    .dataframe tbody tr th:only-of-type {\n",
       "        vertical-align: middle;\n",
       "    }\n",
       "\n",
       "    .dataframe tbody tr th {\n",
       "        vertical-align: top;\n",
       "    }\n",
       "\n",
       "    .dataframe thead th {\n",
       "        text-align: right;\n",
       "    }\n",
       "</style>\n",
       "<table border=\"1\" class=\"dataframe\">\n",
       "  <thead>\n",
       "    <tr style=\"text-align: right;\">\n",
       "      <th></th>\n",
       "      <th>index</th>\n",
       "      <th>topic</th>\n",
       "      <th>topic_percent</th>\n",
       "    </tr>\n",
       "  </thead>\n",
       "  <tbody>\n",
       "    <tr>\n",
       "      <th>2</th>\n",
       "      <td>Capitol Hill</td>\n",
       "      <td>city life</td>\n",
       "      <td>0.999072</td>\n",
       "    </tr>\n",
       "    <tr>\n",
       "      <th>5</th>\n",
       "      <td>First Hill</td>\n",
       "      <td>city life</td>\n",
       "      <td>0.978136</td>\n",
       "    </tr>\n",
       "    <tr>\n",
       "      <th>8</th>\n",
       "      <td>Lower Queen Anne</td>\n",
       "      <td>city life</td>\n",
       "      <td>0.998924</td>\n",
       "    </tr>\n",
       "    <tr>\n",
       "      <th>11</th>\n",
       "      <td>Queen Anne</td>\n",
       "      <td>city life</td>\n",
       "      <td>0.842948</td>\n",
       "    </tr>\n",
       "    <tr>\n",
       "      <th>12</th>\n",
       "      <td>Stevens</td>\n",
       "      <td>city life</td>\n",
       "      <td>0.878198</td>\n",
       "    </tr>\n",
       "    <tr>\n",
       "      <th>0</th>\n",
       "      <td>Ballard</td>\n",
       "      <td>nature scenery/suburb</td>\n",
       "      <td>0.988216</td>\n",
       "    </tr>\n",
       "    <tr>\n",
       "      <th>4</th>\n",
       "      <td>Columbia City</td>\n",
       "      <td>nature scenery/suburb</td>\n",
       "      <td>0.914091</td>\n",
       "    </tr>\n",
       "    <tr>\n",
       "      <th>6</th>\n",
       "      <td>Fremont</td>\n",
       "      <td>nature scenery/suburb</td>\n",
       "      <td>0.984160</td>\n",
       "    </tr>\n",
       "    <tr>\n",
       "      <th>7</th>\n",
       "      <td>Greenwood</td>\n",
       "      <td>nature scenery/suburb</td>\n",
       "      <td>0.972425</td>\n",
       "    </tr>\n",
       "    <tr>\n",
       "      <th>10</th>\n",
       "      <td>North Beacon Hill</td>\n",
       "      <td>nature scenery/suburb</td>\n",
       "      <td>0.852998</td>\n",
       "    </tr>\n",
       "    <tr>\n",
       "      <th>13</th>\n",
       "      <td>University District</td>\n",
       "      <td>nature scenery/suburb</td>\n",
       "      <td>0.503156</td>\n",
       "    </tr>\n",
       "    <tr>\n",
       "      <th>14</th>\n",
       "      <td>Wallingford</td>\n",
       "      <td>nature scenery/suburb</td>\n",
       "      <td>0.999606</td>\n",
       "    </tr>\n",
       "    <tr>\n",
       "      <th>1</th>\n",
       "      <td>Belltown</td>\n",
       "      <td>tourist attractions</td>\n",
       "      <td>0.995063</td>\n",
       "    </tr>\n",
       "    <tr>\n",
       "      <th>3</th>\n",
       "      <td>Central Business District</td>\n",
       "      <td>tourist attractions</td>\n",
       "      <td>0.999068</td>\n",
       "    </tr>\n",
       "    <tr>\n",
       "      <th>9</th>\n",
       "      <td>Minor</td>\n",
       "      <td>tourist attractions</td>\n",
       "      <td>0.984898</td>\n",
       "    </tr>\n",
       "  </tbody>\n",
       "</table>\n",
       "</div>"
      ],
      "text/plain": [
       "                        index                  topic  topic_percent\n",
       "2                Capitol Hill              city life       0.999072\n",
       "5                  First Hill              city life       0.978136\n",
       "8            Lower Queen Anne              city life       0.998924\n",
       "11                 Queen Anne              city life       0.842948\n",
       "12                    Stevens              city life       0.878198\n",
       "0                     Ballard  nature scenery/suburb       0.988216\n",
       "4               Columbia City  nature scenery/suburb       0.914091\n",
       "6                     Fremont  nature scenery/suburb       0.984160\n",
       "7                   Greenwood  nature scenery/suburb       0.972425\n",
       "10          North Beacon Hill  nature scenery/suburb       0.852998\n",
       "13        University District  nature scenery/suburb       0.503156\n",
       "14                Wallingford  nature scenery/suburb       0.999606\n",
       "1                    Belltown    tourist attractions       0.995063\n",
       "3   Central Business District    tourist attractions       0.999068\n",
       "9                       Minor    tourist attractions       0.984898"
      ]
     },
     "execution_count": 133,
     "metadata": {},
     "output_type": "execute_result"
    }
   ],
   "source": [
    "#create dictionaries containing neighbourhoods with >60 reviews (only focus on those more \"popular\" neighbourhoods)\n",
    "#find the \"top\" topic for each of the neighbourhood -- the topic must have a topic percent >50% (must be the highest)\n",
    "\n",
    "#top_topic dictionary: {neighbourhood: the top topic in the description about this neighbourhood}\n",
    "#top_percent dictionary: {neighbourhood: the percent% of the top topic in the description about this neighbourhood}\n",
    "\n",
    "top_topic = dict()\n",
    "top_percent = dict()\n",
    "iter = 0\n",
    "\n",
    "for element in topic:\n",
    "    if len(sea_listings[sea_listings['neighbourhood']==sea_nbr_description.index[iter]])>60:\n",
    "        top_topic[sea_nbr_description.index[iter]] = [k for k,v in element if v>0.5][0]\n",
    "        top_percent[sea_nbr_description.index[iter]] = [v for k,v in element if v>0.5][0]\n",
    "    iter+=1\n",
    "\n",
    "#create a dataframe for ease of data analysis\n",
    "sea_nbr_vibe = pd.DataFrame([top_topic,top_percent]).T\n",
    "sea_nbr_vibe.columns=['topic','topic_percent']\n",
    "sea_nbr_vibe = sea_nbr_vibe.reset_index()\n",
    "sea_nbr_vibe['topic'].replace({0.0:'nature scenery/suburb',1.0:'tourist attractions',2.0:'city life'}, inplace=True)\n",
    "sea_nbr_vibe.sort_values('topic')\n"
   ]
  },
  {
   "cell_type": "code",
   "execution_count": 134,
   "id": "9eea9b2b",
   "metadata": {},
   "outputs": [],
   "source": [
    "#most of the neighborhood has a very clear topic with >90% contribution\n",
    "#one interesting neighborhood is \"University District\":\n",
    "    #it is basically 50% nature scenery/suburb and another 50% city life/tourist attraction\n",
    "    #this seems to be true after checking with Google -- this neighborhood is away from downtown \n",
    "    #but has a youth feel because of the university nearby\n",
    "    "
   ]
  },
  {
   "cell_type": "code",
   "execution_count": 135,
   "id": "ef3b43c9",
   "metadata": {},
   "outputs": [
    {
     "name": "stdout",
     "output_type": "stream",
     "text": [
      "['Capitol Hill', 'First Hill', 'Lower Queen Anne', 'Queen Anne', 'Stevens']\n",
      "['Ballard', 'Columbia City', 'Fremont', 'Greenwood', 'North Beacon Hill', 'University District', 'Wallingford']\n",
      "['Belltown', 'Central Business District', 'Minor']\n"
     ]
    }
   ],
   "source": [
    "#look at what neighbourhoods are included in each of the topics\n",
    "topic_dist = sea_nbr_vibe.groupby('topic')['index'].apply(list)\n",
    "#neighbourhood vibe: nature scenery \n",
    "print(topic_dist[0])\n",
    "\n",
    "#neighbourhood vibe: tourist attractions \n",
    "print(topic_dist[1])\n",
    "\n",
    "#neighbourhood vibe: city life \n",
    "print(topic_dist[2])"
   ]
  },
  {
   "cell_type": "code",
   "execution_count": 136,
   "id": "25a97ef3",
   "metadata": {},
   "outputs": [
    {
     "data": {
      "text/plain": [
       "{'Ballard': ['farmers', 'gardens', 'locks', 'golden'],\n",
       " 'Belltown': ['museum', 'project', 'needle', 'pike'],\n",
       " 'Capitol Hill': ['best', 'nightlife', 'pike', 'pine'],\n",
       " 'Central Business District': ['art', 'needle', 'project', 'museum', 'pike'],\n",
       " 'Columbia City': ['music', 'theater', 'rail', 'diverse'],\n",
       " 'First Hill': ['theaters', 'art', 'culture', 'capitol', 'pike'],\n",
       " 'Fremont': ['gilman', 'woodland', 'zoo', 'burke'],\n",
       " 'Greenwood': ['golden', 'green', 'greenlake', 'phinney'],\n",
       " 'Lower Queen Anne': ['museum', 'needle', 'theater'],\n",
       " 'Minor': ['art', 'valley', 'central', 'capitol', 'madison'],\n",
       " 'North Beacon Hill': ['station', 'ave', 'light', 'golf', 'rail'],\n",
       " 'Queen Anne': ['views', 'needle', 'fremont'],\n",
       " 'Stevens': ['best', 'nightlife', 'pine', 'drink', 'capitol'],\n",
       " 'University District': ['activities', 'score', '100', 'array'],\n",
       " 'Wallingford': ['woodland', 'green', 'greenlake', 'fremont']}"
      ]
     },
     "execution_count": 136,
     "metadata": {},
     "output_type": "execute_result"
    }
   ],
   "source": [
    "#a separate analysis on the key words about each neighborhood by calculation of tfidf\n",
    "#try to find the top words with high tfidf in each document, create a dictionary for the neighborhood/key words pair.\n",
    "sea_nbr_word = dict()\n",
    "for n in range(len(sea_nbr_description)):\n",
    "    #only analysing neighbourhood that has >60 listings (otherwise description may not be representative)\n",
    "    if len(sea_listings[sea_listings['neighbourhood']==sea_nbr_description.index[n]])>60:\n",
    "        sea_nbr_word[sea_nbr_description.index[n]] = [feature_names_tfidf[i] for i in tfidf_ind[n,-5:] if feature_names_tfidf[i] not in sea_nbr_description.index[n].lower().split()]\n",
    "\n",
    "#look at the top 5 words with high tfidf\n",
    "sea_nbr_word"
   ]
  },
  {
   "cell_type": "code",
   "execution_count": 137,
   "id": "2550547a",
   "metadata": {},
   "outputs": [],
   "source": [
    "#the key words with high tfidf for each neighborhood is in agreement with the \"topic\" found by LDA model\n",
    "#the theme for each neighborhood is clear, and is confirmed with the tfidf analysis\n"
   ]
  },
  {
   "cell_type": "markdown",
   "id": "89c023b4",
   "metadata": {},
   "source": [
    "### For Question 3: What are the key features that influence the rental listing price? "
   ]
  },
  {
   "cell_type": "code",
   "execution_count": 138,
   "id": "432d5996",
   "metadata": {},
   "outputs": [
    {
     "data": {
      "text/html": [
       "<div>\n",
       "<style scoped>\n",
       "    .dataframe tbody tr th:only-of-type {\n",
       "        vertical-align: middle;\n",
       "    }\n",
       "\n",
       "    .dataframe tbody tr th {\n",
       "        vertical-align: top;\n",
       "    }\n",
       "\n",
       "    .dataframe thead th {\n",
       "        text-align: right;\n",
       "    }\n",
       "</style>\n",
       "<table border=\"1\" class=\"dataframe\">\n",
       "  <thead>\n",
       "    <tr style=\"text-align: right;\">\n",
       "      <th></th>\n",
       "      <th>feature</th>\n",
       "      <th>importance</th>\n",
       "    </tr>\n",
       "  </thead>\n",
       "  <tbody>\n",
       "    <tr>\n",
       "      <th>2</th>\n",
       "      <td>bedrooms</td>\n",
       "      <td>0.412515</td>\n",
       "    </tr>\n",
       "    <tr>\n",
       "      <th>0</th>\n",
       "      <td>accommodates</td>\n",
       "      <td>0.081616</td>\n",
       "    </tr>\n",
       "    <tr>\n",
       "      <th>4</th>\n",
       "      <td>cleaning_fee</td>\n",
       "      <td>0.075049</td>\n",
       "    </tr>\n",
       "    <tr>\n",
       "      <th>1</th>\n",
       "      <td>bathrooms</td>\n",
       "      <td>0.065212</td>\n",
       "    </tr>\n",
       "    <tr>\n",
       "      <th>6</th>\n",
       "      <td>latitude</td>\n",
       "      <td>0.052172</td>\n",
       "    </tr>\n",
       "    <tr>\n",
       "      <th>7</th>\n",
       "      <td>longitude</td>\n",
       "      <td>0.03745</td>\n",
       "    </tr>\n",
       "    <tr>\n",
       "      <th>10</th>\n",
       "      <td>reviews_per_month</td>\n",
       "      <td>0.032078</td>\n",
       "    </tr>\n",
       "    <tr>\n",
       "      <th>71</th>\n",
       "      <td>room_type_Private room</td>\n",
       "      <td>0.031964</td>\n",
       "    </tr>\n",
       "    <tr>\n",
       "      <th>8</th>\n",
       "      <td>number_of_reviews</td>\n",
       "      <td>0.027645</td>\n",
       "    </tr>\n",
       "    <tr>\n",
       "      <th>45</th>\n",
       "      <td>neighbourhood_group_cleansed_Downtown</td>\n",
       "      <td>0.019682</td>\n",
       "    </tr>\n",
       "  </tbody>\n",
       "</table>\n",
       "</div>"
      ],
      "text/plain": [
       "                                  feature importance\n",
       "2                                bedrooms   0.412515\n",
       "0                            accommodates   0.081616\n",
       "4                            cleaning_fee   0.075049\n",
       "1                               bathrooms   0.065212\n",
       "6                                latitude   0.052172\n",
       "7                               longitude    0.03745\n",
       "10                      reviews_per_month   0.032078\n",
       "71                 room_type_Private room   0.031964\n",
       "8                       number_of_reviews   0.027645\n",
       "45  neighbourhood_group_cleansed_Downtown   0.019682"
      ]
     },
     "execution_count": 138,
     "metadata": {},
     "output_type": "execute_result"
    }
   ],
   "source": [
    "#identify important features \n",
    "feature_rank = pd.DataFrame([X.columns,regressor.feature_importances_]).T\n",
    "feature_rank.columns=['feature','importance']\n",
    "feature_rank.sort_values('importance',ascending=False).head(10)"
   ]
  },
  {
   "cell_type": "code",
   "execution_count": 139,
   "id": "0c8c78c8",
   "metadata": {},
   "outputs": [],
   "source": [
    "#apparently, number of bedrooms is the most important feature for a listing\n",
    "#how many people it accommodates, cleaning fee amount, number of bathrooms, locations (lat,lon) are also important\n",
    "#I wonder how is the cleaning fee correlated with the price? see below for clarification"
   ]
  },
  {
   "cell_type": "code",
   "execution_count": 140,
   "id": "808a5a2f",
   "metadata": {},
   "outputs": [
    {
     "data": {
      "image/png": "[encoded data removed]",
      "text/plain": [
       "<Figure size 432x288 with 1 Axes>"
      ]
     },
     "metadata": {
      "needs_background": "light"
     },
     "output_type": "display_data"
    }
   ],
   "source": [
    "#look at the correlation between cleaning fee and rental listing price\n",
    "plt.figure()\n",
    "plt.scatter(y,X['cleaning_fee'])\n",
    "plt.xlabel('rental listing price ($/night)')\n",
    "plt.ylabel('cleaning fee ($)')\n",
    "plt.show()"
   ]
  },
  {
   "cell_type": "code",
   "execution_count": 88,
   "id": "c1990cde",
   "metadata": {},
   "outputs": [],
   "source": [
    "#probably only reasonable to charge high cleaning fee if the rental price itself is high. \n",
    "#Also cleaning a nicer house could potentially cost more."
   ]
  }
 ],
 "metadata": {
  "kernelspec": {
   "display_name": "Python 3",
   "language": "python",
   "name": "python3"
  },
  "language_info": {
   "codemirror_mode": {
    "name": "ipython",
    "version": 3
   },
   "file_extension": ".py",
   "mimetype": "text/x-python",
   "name": "python",
   "nbconvert_exporter": "python",
   "pygments_lexer": "ipython3",
   "version": "3.8.8"
  }
 },
 "nbformat": 4,
 "nbformat_minor": 5
}
